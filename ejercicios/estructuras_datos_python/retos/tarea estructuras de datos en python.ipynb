{
 "cells": [
  {
   "cell_type": "markdown",
   "id": "20dc43f7",
   "metadata": {},
   "source": [
    "### Pregunta 1 \n",
    "\n",
    "Crea una funcion que reciba los tres coheficientes **a, b** y **c** para resolver una ecuación de segundo grado. \n",
    "\n",
    "Muestra la solición por pantalla y ayúdate de la librería **math** para acceder a la función raiz cuadrada."
   ]
  },
  {
   "cell_type": "code",
   "execution_count": 2,
   "id": "db1310c1",
   "metadata": {},
   "outputs": [
    {
     "name": "stdout",
     "output_type": "stream",
     "text": [
      "las soluciones a la ecuancion son x1=-1.881966011250105 y x2=0.825517085269897\n"
     ]
    }
   ],
   "source": [
    "from math import sqrt\n",
    "def equation2(a,b,c):\n",
    "    a = (-b+sqrt(b**2-4*a*c)/2*a)\n",
    "    b=  (-b-sqrt(b**2-4*a*c)/2*a)\n",
    "    return (a,b)\n",
    "\n",
    "a,b,c=1,3,1\n",
    "print('las soluciones a la ecuancion son x1={} y x2={}'.format(equation2(a,b,c)[0],equation2(a,b,c)[1]))"
   ]
  },
  {
   "cell_type": "markdown",
   "id": "6f69d98b",
   "metadata": {},
   "source": [
    "### Pregunta 2 \n",
    "Crea una función que lea una frase de teclado y nos diga si es o no un palíndromo (frase que se lee igual de izquierda a derecha o al revés como por ejemplo \"La ruta nos aportó otro paso natural\")."
   ]
  },
  {
   "cell_type": "code",
   "execution_count": 5,
   "id": "5a0d497b",
   "metadata": {},
   "outputs": [
    {
     "name": "stdout",
     "output_type": "stream",
     "text": [
      "La ruta nos aporto otro paso natural es un ¡¡¡palíndromo!!! \n"
     ]
    }
   ],
   "source": [
    "def palindromo(s):\n",
    "    s1= s.replace(\" \",\"\").lower()\n",
    "    if s1 == s1[::-1]:\n",
    "        return \"{} es un ¡¡¡palíndromo!!! \".format(s)\n",
    "    return \"{} es no es un palíndromo \".format(s)\n",
    "\n",
    "s =\"La ruta nos aporto otro paso natural\"\n",
    "print(palindromo(s))\n",
    "\n"
   ]
  },
  {
   "cell_type": "markdown",
   "id": "b3852f40",
   "metadata": {},
   "source": [
    "### Pregunta 3 \n",
    "Crea un diccionario que tenga por claves los números del 1 al 10 y como valores sus racies cuadradas."
   ]
  },
  {
   "cell_type": "code",
   "execution_count": 11,
   "id": "dce09e01",
   "metadata": {},
   "outputs": [
    {
     "name": "stdout",
     "output_type": "stream",
     "text": [
      "{1: 1.0, 2: 1.41, 3: 1.73, 4: 2.0, 5: 2.24, 6: 2.45, 7: 2.65, 8: 2.83, 9: 3.0, 10: 3.16}\n"
     ]
    }
   ],
   "source": [
    "dicc1 ={}\n",
    "for i in range(1,11):\n",
    "    dicc1[i]= round(sqrt(i),2)\n",
    "print(dicc1)    \n",
    "    "
   ]
  },
  {
   "cell_type": "markdown",
   "id": "fd83f9bc",
   "metadata": {},
   "source": [
    "### Pregunta 4 \n",
    "Crea un diccionario que tenga como claves las letras del alfabeto castellano y como valores los símbolos del código morse ( los tienes en la wikipedia). a continuación crea una función que lea una frase del teclado y te la convierta a morse utlizando el diccionario anterior."
   ]
  },
  {
   "cell_type": "code",
   "execution_count": 14,
   "id": "01ba9e20",
   "metadata": {},
   "outputs": [
    {
     "name": "stdout",
     "output_type": "stream",
     "text": [
      "escribe una fraseHola como estas\n",
      "la frase \"Hola como estas\" traducida a morse es ....---.-...--.-.--------....-.-...\n"
     ]
    }
   ],
   "source": [
    "morse = {'a':'.-','b':'-...','c':'-.-.','d':'-..','e':'.','f':'..-.','g':'--.','h':'....','i':'..','j':'.---'\n",
    "        ,'k':'-.-','l':'.-..','m':'--','n':'-.','o':'---','p':'.--.','q':'--.-','r':'.-.','s':'...','t':'-'\n",
    "        ,'u':'..-','v':'...-','x':'-..-','y':'-.--','z':'--..'}\n",
    "def wordToMorse(s):\n",
    "    s = s.replace(' ','').lower() #elinino los espacios entre palabras y lo dejo todo en miníscula\n",
    "    morseWord=\"\"\n",
    "    for i in s:\n",
    "        morseWord += morse[i]# añado los valores del dicionario a la variable morseWord\n",
    "    return morseWord    \n",
    "        \n",
    "word = input('escribe una frase')\n",
    "print('la frase \"{}\" traducida a morse es {}'.format(word,wordToMorse(word)))\n",
    "\n",
    "\n",
    "\n",
    "        "
   ]
  },
  {
   "cell_type": "markdown",
   "id": "60db941b",
   "metadata": {},
   "source": [
    "### pregunta 5 \n",
    "Crea una función que dados dos diccionarios nos diga qué claves están presentes en ambos."
   ]
  },
  {
   "cell_type": "code",
   "execution_count": 5,
   "id": "87504675",
   "metadata": {},
   "outputs": [
    {
     "name": "stdout",
     "output_type": "stream",
     "text": [
      "Spain está presente en el diccionario1 y Spain está presente en el diccionario2\n",
      "USA está presente en el diccionario1 y USA está presente en el diccionario2\n"
     ]
    }
   ],
   "source": [
    "dicc3 ={'Spain':'tennis','USA':'basketball','Russia':'gimnastics','Argentina':'football'}\n",
    "dicc4={'USA':'hamburger','Japan':'shusi','Spain':'paella','Italy':'pizza'}\n",
    "\n",
    "def equalkeys(a,b):\n",
    "    for i in a.keys():\n",
    "        for j in b.keys():\n",
    "            if i == j:\n",
    "                print('{} está presente en el diccionario1 y {} está presente en el diccionario2'.format(i,j))\n",
    "                \n",
    "equalkeys(dicc3,dicc4)\n",
    "        "
   ]
  },
  {
   "cell_type": "markdown",
   "id": "203e2f02",
   "metadata": {},
   "source": [
    "### Pregunta 6 \n",
    "Crea una función que dado un número $N$ nos diga si es primo o no ( tienes que ir dividiendo por todos los números $x$ comprendidos entre 2 y el número $N-1$ y ver si la división de $\\frac{N}{x}$ tiene resto cero o no)."
   ]
  },
  {
   "cell_type": "code",
   "execution_count": 4,
   "id": "9f39dbdb",
   "metadata": {},
   "outputs": [
    {
     "name": "stdout",
     "output_type": "stream",
     "text": [
      "escribe un numero: 17\n"
     ]
    },
    {
     "data": {
      "text/plain": [
       "'17 es un número primo'"
      ]
     },
     "execution_count": 4,
     "metadata": {},
     "output_type": "execute_result"
    }
   ],
   "source": [
    "def primo(n):\n",
    "    for x in range(2,n):\n",
    "        if n%x ==0:\n",
    "            return '{} no es un número primo'.format(n)\n",
    "    return '{} es un número primo'.format(n)    \n",
    "        \n",
    "n = int(input('escribe un numero: '))        \n",
    "primo(n)"
   ]
  },
  {
   "cell_type": "markdown",
   "id": "fb8918c8",
   "metadata": {},
   "source": [
    "### Pregunta 7 \n",
    "Investiga la documentación de la clase **string** y crea un método que lea una frase del teclado y escriba la primera letra de cda palabra en Mayúscula."
   ]
  },
  {
   "cell_type": "code",
   "execution_count": 12,
   "id": "2bbd3016",
   "metadata": {},
   "outputs": [
    {
     "name": "stdout",
     "output_type": "stream",
     "text": [
      "escribe una frase: la vida es bella\n"
     ]
    },
    {
     "data": {
      "text/plain": [
       "'La Vida Es Bella'"
      ]
     },
     "execution_count": 12,
     "metadata": {},
     "output_type": "execute_result"
    }
   ],
   "source": [
    "def uppers(s):\n",
    "    return s.title()\n",
    "\n",
    "frase = input('escribe una frase: ')\n",
    "uppers(frase)"
   ]
  },
  {
   "cell_type": "markdown",
   "id": "ea350a9f",
   "metadata": {},
   "source": [
    "### Pregunta 8\n",
    " Crea una función que clacule el máximo común divisor de dos números introducidos por el usuario por teclado."
   ]
  },
  {
   "cell_type": "code",
   "execution_count": 16,
   "id": "c6862de7",
   "metadata": {},
   "outputs": [
    {
     "data": {
      "text/plain": [
       "3"
      ]
     },
     "execution_count": 16,
     "metadata": {},
     "output_type": "execute_result"
    }
   ],
   "source": [
    "def MCD(a,b):\n",
    "    resto = 1 # uso la variable resto para que se cumpla la condición del while, y la idea es que\n",
    "    # cuando el resto sea cero el mcd será el divisor de esa divisón\n",
    "    while resto > 0:\n",
    "        a= a%b \n",
    "        b=b%a \n",
    "        resto=a%b\n",
    "        return b\n",
    "    \n",
    "MCD(1221,15) #el primer número debe ser mayor que el segundo   "
   ]
  },
  {
   "cell_type": "markdown",
   "id": "3dafaf30",
   "metadata": {},
   "source": [
    "### Ejercicio 9 \n",
    "Investiga el cifrado César y crea una función que lo repdouzca en **Python**. cada letra del mensaje original se desplaza tres posiciones en el alfabeto estandar. La A se convierte en la D, la B se convierte en la E , la C se convierte en la F $\\dots$ y cuando se acaba el alfabeto se vuelve a dar la vuelta: la X se convierte en la A, la Y en la B y la X en la C . Los números no sufren ninguna modificación."
   ]
  },
  {
   "cell_type": "code",
   "execution_count": 25,
   "id": "30fd3a56",
   "metadata": {},
   "outputs": [
    {
     "data": {
      "text/plain": [
       "'krodfrprhvwdv'"
      ]
     },
     "execution_count": 25,
     "metadata": {},
     "output_type": "execute_result"
    }
   ],
   "source": [
    "def cesar(s):\n",
    "    cesarWord=\"\"\n",
    "    alfabeto =\"abcdefghijklmnopqrstuvwxyz\"\n",
    "    for c in s:\n",
    "        if c in alfabeto:\n",
    "            idx = alfabeto.find(c)\n",
    "            idx += 3\n",
    "            if idx >len(alfabeto):\n",
    "                idx -=len(alfabeto)\n",
    "            cesarWord += alfabeto[idx]\n",
    "    return cesarWord        \n",
    "\n",
    "cesar('hola como estas')\n",
    "    \n",
    "        "
   ]
  },
  {
   "cell_type": "markdown",
   "id": "f31b0d3e",
   "metadata": {},
   "source": [
    "alternativa al ejercicio 9"
   ]
  },
  {
   "cell_type": "code",
   "execution_count": null,
   "id": "c7578726",
   "metadata": {},
   "outputs": [],
   "source": [
    "def cifradoCesar(letra):\n",
    "    letra =letra.upper()\n",
    "    cesar = 65 + (ord(letra)-65 + 3)%26\n",
    "    return chr(cesar)\n",
    "\n"
   ]
  },
  {
   "cell_type": "markdown",
   "id": "13811ee9",
   "metadata": {},
   "source": [
    "### Pregunta 10\n",
    "Dado una lista de nombres de persona, describe una función que los ordene de tres formas diferentes: \n",
    "\n",
    "A. De froma alfabetica \n",
    "\n",
    "B. De forma alfabetica invertida \n",
    "\n",
    "C. De nombre más corto al más largo."
   ]
  },
  {
   "cell_type": "code",
   "execution_count": 48,
   "id": "7d7248cd",
   "metadata": {},
   "outputs": [
    {
     "name": "stdout",
     "output_type": "stream",
     "text": [
      "['Alicia', 'Francisco', 'Jose', 'Lydia', 'Paula']\n",
      "['Paula', 'Lydia', 'Jose', 'Francisco', 'Alicia']\n",
      "['Jose', 'Paula', 'Lydia', 'Alicia', 'Francisco']\n"
     ]
    }
   ],
   "source": [
    "nombres =['Alicia','Francisco','Paula','Lydia','Jose']\n",
    "def sortered_names(l):\n",
    "    a = sorted(l)\n",
    "    b = a[::-1]\n",
    "    c= sorted(nombres,key=len)  \n",
    "    \n",
    "    return (a,b,c)\n",
    "print(sortered_names(nombres)[0])\n",
    "print(sortered_names(nombres)[1])\n",
    "print(sortered_names(nombres)[2])                 \n",
    "                 \n",
    "    "
   ]
  },
  {
   "cell_type": "code",
   "execution_count": null,
   "id": "2b736f2a",
   "metadata": {},
   "outputs": [],
   "source": []
  }
 ],
 "metadata": {
  "kernelspec": {
   "display_name": "Python 3 (ipykernel)",
   "language": "python",
   "name": "python3"
  },
  "language_info": {
   "codemirror_mode": {
    "name": "ipython",
    "version": 3
   },
   "file_extension": ".py",
   "mimetype": "text/x-python",
   "name": "python",
   "nbconvert_exporter": "python",
   "pygments_lexer": "ipython3",
   "version": "3.11.5"
  }
 },
 "nbformat": 4,
 "nbformat_minor": 5
}
