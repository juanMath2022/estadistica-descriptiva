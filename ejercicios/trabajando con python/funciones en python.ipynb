{
 "cells": [
  {
   "cell_type": "markdown",
   "id": "c92342d2",
   "metadata": {},
   "source": [
    "# Funciones en Python"
   ]
  },
  {
   "cell_type": "code",
   "execution_count": 5,
   "id": "e959066c",
   "metadata": {},
   "outputs": [],
   "source": [
    "def suma(x,y): # x e y son parámetros, son lo que pasamos a la función o al método\n",
    "    return x+y"
   ]
  },
  {
   "cell_type": "code",
   "execution_count": 2,
   "id": "f7cf2b49",
   "metadata": {},
   "outputs": [],
   "source": [
    "class Operaciones(object): \n",
    "    def suma(self,x,y): # método suma con tres parámetros\n",
    "        self.resultado = x+y # self hace referencia al objeto \n",
    "        return self.resultado"
   ]
  },
  {
   "cell_type": "code",
   "execution_count": 6,
   "id": "381dcf32",
   "metadata": {},
   "outputs": [
    {
     "data": {
      "text/plain": [
       "5"
      ]
     },
     "execution_count": 6,
     "metadata": {},
     "output_type": "execute_result"
    }
   ],
   "source": [
    "suma(2,3)"
   ]
  },
  {
   "cell_type": "code",
   "execution_count": 7,
   "id": "f89c901e",
   "metadata": {},
   "outputs": [
    {
     "data": {
      "text/plain": [
       "5"
      ]
     },
     "execution_count": 7,
     "metadata": {},
     "output_type": "execute_result"
    }
   ],
   "source": [
    "operInstance = Operaciones()\n",
    "operInstance.suma(2,3)"
   ]
  },
  {
   "cell_type": "code",
   "execution_count": 11,
   "id": "7be9e00e",
   "metadata": {},
   "outputs": [],
   "source": [
    "def saludar():\n",
    "    name = input('introduce tu nombre: ')\n",
    "    if name:\n",
    "    \n",
    "        print('Hola '+name)\n",
    "    else:\n",
    "        print('Hola estoy programando')\n",
    "    return"
   ]
  },
  {
   "cell_type": "code",
   "execution_count": 12,
   "id": "2a15aebe",
   "metadata": {},
   "outputs": [
    {
     "name": "stdout",
     "output_type": "stream",
     "text": [
      "introduce tu nombre: juan\n",
      "Hola juan\n"
     ]
    }
   ],
   "source": [
    "saludar()"
   ]
  },
  {
   "cell_type": "code",
   "execution_count": null,
   "id": "47a88875",
   "metadata": {},
   "outputs": [],
   "source": []
  },
  {
   "cell_type": "code",
   "execution_count": 10,
   "id": "3ce773ab",
   "metadata": {},
   "outputs": [
    {
     "name": "stdout",
     "output_type": "stream",
     "text": [
      "Hola estoy programando en python\n"
     ]
    }
   ],
   "source": [
    "saludar()"
   ]
  },
  {
   "cell_type": "code",
   "execution_count": 13,
   "id": "c25bdc9f",
   "metadata": {},
   "outputs": [
    {
     "name": "stdout",
     "output_type": "stream",
     "text": [
      "introduce tu nombre: juan\n",
      "Hola juan\n"
     ]
    },
    {
     "ename": "TypeError",
     "evalue": "unsupported operand type(s) for +: 'NoneType' and 'str'",
     "output_type": "error",
     "traceback": [
      "\u001b[0;31m---------------------------------------------------------------------------\u001b[0m",
      "\u001b[0;31mTypeError\u001b[0m                                 Traceback (most recent call last)",
      "Cell \u001b[0;32mIn[13], line 1\u001b[0m\n\u001b[0;32m----> 1\u001b[0m saludar()\u001b[38;5;241m+\u001b[39m\u001b[38;5;124m'\u001b[39m\u001b[38;5;124m:)\u001b[39m\u001b[38;5;124m'\u001b[39m\n",
      "\u001b[0;31mTypeError\u001b[0m: unsupported operand type(s) for +: 'NoneType' and 'str'"
     ]
    }
   ],
   "source": [
    "saludar()+':)'"
   ]
  },
  {
   "cell_type": "code",
   "execution_count": 14,
   "id": "02bd16fe",
   "metadata": {},
   "outputs": [
    {
     "data": {
      "text/plain": [
       "25"
      ]
     },
     "execution_count": 14,
     "metadata": {},
     "output_type": "execute_result"
    }
   ],
   "source": [
    "suma(2,3)*5"
   ]
  },
  {
   "cell_type": "code",
   "execution_count": 15,
   "id": "0b25f0ba",
   "metadata": {},
   "outputs": [],
   "source": [
    "def buscapares():\n",
    "    for x in range(10):\n",
    "        if x % 2 == 0:\n",
    "            print(x)"
   ]
  },
  {
   "cell_type": "code",
   "execution_count": 16,
   "id": "a0d3a773",
   "metadata": {},
   "outputs": [
    {
     "name": "stdout",
     "output_type": "stream",
     "text": [
      "0\n",
      "2\n",
      "4\n",
      "6\n",
      "8\n"
     ]
    }
   ],
   "source": [
    "buscapares()"
   ]
  },
  {
   "cell_type": "code",
   "execution_count": 17,
   "id": "94a12ec1",
   "metadata": {},
   "outputs": [],
   "source": [
    "def sumaresta(x,y):\n",
    "    suma = x+y\n",
    "    resta = x-y\n",
    "    return(suma ,resta)"
   ]
  },
  {
   "cell_type": "code",
   "execution_count": 18,
   "id": "92727f93",
   "metadata": {},
   "outputs": [
    {
     "data": {
      "text/plain": [
       "(5, -1)"
      ]
     },
     "execution_count": 18,
     "metadata": {},
     "output_type": "execute_result"
    }
   ],
   "source": [
    "sumaresta(2,3)"
   ]
  },
  {
   "cell_type": "code",
   "execution_count": 19,
   "id": "2ca0b47e",
   "metadata": {},
   "outputs": [
    {
     "data": {
      "text/plain": [
       "(5, 1)"
      ]
     },
     "execution_count": 19,
     "metadata": {},
     "output_type": "execute_result"
    }
   ],
   "source": [
    "sumaresta(y=2,x=3)"
   ]
  },
  {
   "cell_type": "code",
   "execution_count": 1,
   "id": "1c6bb357",
   "metadata": {},
   "outputs": [],
   "source": [
    "def suma(*args):# con *args le decimos a la funcion que el número de argumentos puede ser cualquiera\n",
    "    return sum(args)"
   ]
  },
  {
   "cell_type": "code",
   "execution_count": 2,
   "id": "f5812e04",
   "metadata": {},
   "outputs": [
    {
     "data": {
      "text/plain": [
       "29"
      ]
     },
     "execution_count": 2,
     "metadata": {},
     "output_type": "execute_result"
    }
   ],
   "source": [
    "suma(1,3,4,10,11)"
   ]
  },
  {
   "cell_type": "code",
   "execution_count": 5,
   "id": "df93e4e7",
   "metadata": {},
   "outputs": [],
   "source": [
    "def sumacuadrado(*datos):\n",
    "    total = 0\n",
    "    for d in datos:\n",
    "        total += d**2\n",
    "    return total     "
   ]
  },
  {
   "cell_type": "code",
   "execution_count": 4,
   "id": "c05a9fe5",
   "metadata": {},
   "outputs": [
    {
     "data": {
      "text/plain": [
       "91.93960000000001"
      ]
     },
     "execution_count": 4,
     "metadata": {},
     "output_type": "execute_result"
    }
   ],
   "source": [
    "sumacuadrado(2.4,8.9,-2.64)"
   ]
  },
  {
   "cell_type": "markdown",
   "id": "b7316eba",
   "metadata": {},
   "source": [
    "# Funciones anónimas"
   ]
  },
  {
   "cell_type": "code",
   "execution_count": 7,
   "id": "949f35eb",
   "metadata": {},
   "outputs": [],
   "source": [
    "doble = lambda x: x*2 "
   ]
  },
  {
   "cell_type": "code",
   "execution_count": 8,
   "id": "41340384",
   "metadata": {},
   "outputs": [
    {
     "data": {
      "text/plain": [
       "4"
      ]
     },
     "execution_count": 8,
     "metadata": {},
     "output_type": "execute_result"
    }
   ],
   "source": [
    "doble(2)"
   ]
  },
  {
   "cell_type": "code",
   "execution_count": 9,
   "id": "eda61c15",
   "metadata": {},
   "outputs": [],
   "source": [
    "cuadrado = lambda x: x**2"
   ]
  },
  {
   "cell_type": "code",
   "execution_count": 10,
   "id": "ea498029",
   "metadata": {},
   "outputs": [
    {
     "data": {
      "text/plain": [
       "25"
      ]
     },
     "execution_count": 10,
     "metadata": {},
     "output_type": "execute_result"
    }
   ],
   "source": [
    "cuadrado(5)"
   ]
  },
  {
   "cell_type": "code",
   "execution_count": 11,
   "id": "8d87afc5",
   "metadata": {},
   "outputs": [],
   "source": [
    "suma = lambda x,y: x+y"
   ]
  },
  {
   "cell_type": "code",
   "execution_count": 12,
   "id": "54205568",
   "metadata": {},
   "outputs": [
    {
     "data": {
      "text/plain": [
       "5"
      ]
     },
     "execution_count": 12,
     "metadata": {},
     "output_type": "execute_result"
    }
   ],
   "source": [
    "suma(2,3)"
   ]
  },
  {
   "cell_type": "code",
   "execution_count": 13,
   "id": "3b0f9649",
   "metadata": {},
   "outputs": [],
   "source": [
    "from functools import reduce"
   ]
  },
  {
   "cell_type": "code",
   "execution_count": 17,
   "id": "b1bc2136",
   "metadata": {},
   "outputs": [],
   "source": [
    "data = [x for x in range(1,11)]"
   ]
  },
  {
   "cell_type": "code",
   "execution_count": 18,
   "id": "8ee0e736",
   "metadata": {},
   "outputs": [
    {
     "data": {
      "text/plain": [
       "[1, 2, 3, 4, 5, 6, 7, 8, 9, 10]"
      ]
     },
     "execution_count": 18,
     "metadata": {},
     "output_type": "execute_result"
    }
   ],
   "source": [
    "data"
   ]
  },
  {
   "cell_type": "code",
   "execution_count": 19,
   "id": "94b03449",
   "metadata": {},
   "outputs": [],
   "source": [
    "filteder_data = list(filter(lambda x: (x*2>8),data))"
   ]
  },
  {
   "cell_type": "code",
   "execution_count": 20,
   "id": "326cd68f",
   "metadata": {},
   "outputs": [
    {
     "data": {
      "text/plain": [
       "[5, 6, 7, 8, 9, 10]"
      ]
     },
     "execution_count": 20,
     "metadata": {},
     "output_type": "execute_result"
    }
   ],
   "source": [
    "filteder_data"
   ]
  },
  {
   "cell_type": "code",
   "execution_count": 22,
   "id": "e09b6cba",
   "metadata": {},
   "outputs": [],
   "source": [
    "mapped_data = list(map(lambda x: x*2, data))"
   ]
  },
  {
   "cell_type": "code",
   "execution_count": 23,
   "id": "27890144",
   "metadata": {},
   "outputs": [
    {
     "data": {
      "text/plain": [
       "[2, 4, 6, 8, 10, 12, 14, 16, 18, 20]"
      ]
     },
     "execution_count": 23,
     "metadata": {},
     "output_type": "execute_result"
    }
   ],
   "source": [
    "mapped_data"
   ]
  },
  {
   "cell_type": "code",
   "execution_count": 24,
   "id": "6e369fe1",
   "metadata": {},
   "outputs": [],
   "source": [
    "reduced_data = reduce(lambda x,y: x+y, data)"
   ]
  },
  {
   "cell_type": "code",
   "execution_count": 25,
   "id": "f842d892",
   "metadata": {},
   "outputs": [
    {
     "data": {
      "text/plain": [
       "55"
      ]
     },
     "execution_count": 25,
     "metadata": {},
     "output_type": "execute_result"
    }
   ],
   "source": [
    "reduced_data"
   ]
  },
  {
   "cell_type": "markdown",
   "id": "f5750fe0",
   "metadata": {},
   "source": [
    "### tres links para python \n",
    "\n",
    "[data sicence cheat sheet](https://www.datacamp.com/cheat-sheet) \n",
    "\n",
    "[ml974/data-sicence-cheatsheet](https://github.com/ml874/Data-Science-Cheatsheet/blob/master/data-science-cheatsheet.pdf) \n",
    "\n",
    "[FavioVazquez/ds-cheatssheets](https://github.com/FavioVazquez/ds-cheatsheets)"
   ]
  },
  {
   "cell_type": "code",
   "execution_count": null,
   "id": "dbdd6fcd",
   "metadata": {},
   "outputs": [],
   "source": []
  },
  {
   "cell_type": "code",
   "execution_count": null,
   "id": "8f3e07a5",
   "metadata": {},
   "outputs": [],
   "source": []
  }
 ],
 "metadata": {
  "kernelspec": {
   "display_name": "Python 3 (ipykernel)",
   "language": "python",
   "name": "python3"
  },
  "language_info": {
   "codemirror_mode": {
    "name": "ipython",
    "version": 3
   },
   "file_extension": ".py",
   "mimetype": "text/x-python",
   "name": "python",
   "nbconvert_exporter": "python",
   "pygments_lexer": "ipython3",
   "version": "3.11.5"
  }
 },
 "nbformat": 4,
 "nbformat_minor": 5
}
