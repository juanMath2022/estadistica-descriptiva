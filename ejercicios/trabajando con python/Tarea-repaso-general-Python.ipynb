{
 "cells": [
  {
   "cell_type": "markdown",
   "id": "a1f61797",
   "metadata": {},
   "source": [
    "### Pregunta 1 \n",
    "\n",
    "Escribe una secuencia de instrucciones que permitar leer un número real por pantalla y que muestres sie le número es positivo o no."
   ]
  },
  {
   "cell_type": "code",
   "execution_count": 1,
   "id": "b15900de",
   "metadata": {},
   "outputs": [
    {
     "name": "stdout",
     "output_type": "stream",
     "text": [
      "escribe un número: -5\n",
      "El nñumero -5.0 es negativo\n"
     ]
    }
   ],
   "source": [
    "numero = float(input('escribe un número: '))\n",
    "if numero >=0: # teniendo en cuenta que cero es un número positivo\n",
    "    print(\"El nñumero {} es positivo\".format(numero))\n",
    "    \n",
    "elif numero < 0:\n",
    "    print(\"El nñumero {} es negativo\".format(numero))"
   ]
  },
  {
   "cell_type": "markdown",
   "id": "8c1acde4",
   "metadata": {},
   "source": [
    "### Pregunta 2 \n",
    "\n",
    "Escribe una secuencia de instrucciones que permita leer un número real por pantalla y que muestre si el número está en el rango entre -5, y 5, ambos incluidos"
   ]
  },
  {
   "cell_type": "code",
   "execution_count": 6,
   "id": "42808773",
   "metadata": {},
   "outputs": [
    {
     "name": "stdout",
     "output_type": "stream",
     "text": [
      "escribe un número: -2.3\n",
      "El número -2.3 está en el intervalo [-5,5]\n"
     ]
    }
   ],
   "source": [
    "numero = float(input('escribe un número: '))\n",
    "if numero >=-5 and numero <=5:\n",
    "    print('El número {} está en el intervalo [-5,5]'.format(numero))"
   ]
  },
  {
   "cell_type": "markdown",
   "id": "84cb33e5",
   "metadata": {},
   "source": [
    "### Pregunta 3 \n",
    "\n",
    "Escribe una secuencia de instrucciones quye permitar leer las coordenadas de un punto (x,y) e indiquen en cual de los cuadrantes se encuentra dicho punto. \n",
    "\n",
    "* si $x=0$, deberás indicar que el punto se encuentra sobre el eje vertical. \n",
    "* Si $y=0$, deberás indicar que el punto se encuentra sobre el eje horizontal.\n",
    "* Si tanto $x=0$ como $y=0$, entonces deberás indicar que el punto se trata del origen de coordenadas."
   ]
  },
  {
   "cell_type": "code",
   "execution_count": 9,
   "id": "f478266a",
   "metadata": {},
   "outputs": [
    {
     "name": "stdout",
     "output_type": "stream",
     "text": [
      "coordenada x: -12\n",
      "coordenada y: 0\n",
      "(-12,0) está sobre el eje horizontal\n"
     ]
    }
   ],
   "source": [
    "x = int(input('coordenada x: '))\n",
    "y = int(input('coordenada y: '))\n",
    "\n",
    "if x == 0:\n",
    "    print(\"({},{}) está sobre el eje vertical\".format(x,y))\n",
    "\n",
    "elif y == 0:\n",
    "    print(\"({},{}) está sobre el eje horizontal\".format(x,y))\n",
    "\n",
    "elif x== 0 and y == 0:\n",
    "    print(\"El punto ({},{}) es el origen de coordenadas\".format(x,y))"
   ]
  },
  {
   "cell_type": "markdown",
   "id": "beacdbee",
   "metadata": {},
   "source": [
    "### Pregunta 4 \n",
    "\n",
    "Escribe una secuencia de instrucciones que permitan leer dos números enteros y muestre el cociente de la división entera y el resto de la división entera."
   ]
  },
  {
   "cell_type": "code",
   "execution_count": 12,
   "id": "34e68d04",
   "metadata": {},
   "outputs": [
    {
     "name": "stdout",
     "output_type": "stream",
     "text": [
      "Primer número: 7\n",
      "Segundo número: 2\n",
      "3  <-- cociente de la división entera\n",
      "1  <-- resto de la división\n"
     ]
    }
   ],
   "source": [
    "num1 = int(input('Primer número: '))\n",
    "num2 = int(input('Segundo número: '))\n",
    "print(num1//num2,' <-- cociente de la división entera')\n",
    "print(num1 % num2,' <-- resto de la división')"
   ]
  },
  {
   "cell_type": "markdown",
   "id": "f79d001f",
   "metadata": {},
   "source": [
    "### Pregunta 5 \n",
    "\n",
    "Escribe una secuencia de instrucciones que permitan leer un número entero y determinar si es cuadrado perfecto o no (pinesa la mejor forma de hacerlo con lo que has aprendido hasta ahora)."
   ]
  },
  {
   "cell_type": "code",
   "execution_count": 5,
   "id": "c2b60a3a",
   "metadata": {},
   "outputs": [
    {
     "name": "stdout",
     "output_type": "stream",
     "text": [
      "entra un número: 23\n",
      "23  no es un cuadrado perfecto\n"
     ]
    }
   ],
   "source": [
    "# un cuadrado perfecto es un numero natural que es cuadrado de otro número natural \n",
    "from math import sqrt\n",
    "x = int(input('entra un número: '))\n",
    "if x > 0 and x == sqrt(x)**2:\n",
    "    print(x,' es un cuadrado perfecto ')\n",
    "else:\n",
    "    print(x,' no es un cuadrado perfecto')"
   ]
  },
  {
   "cell_type": "markdown",
   "id": "78adc739",
   "metadata": {},
   "source": [
    "### Pregunta 6 \n",
    "\n",
    "Escribe una expresión que permita determinar si un número entero positivo puede corresponder a un año bisiesto o no. Se consideran años bisiestos aquellos cuyo número es divisble por cuatro excepto los años que son multiplos de 100 a no ser que los sean de 400 (por ejemplo el año 2000 fue bisiesto por el 2100 no lo será ) "
   ]
  },
  {
   "cell_type": "code",
   "execution_count": 6,
   "id": "66b6f0d0",
   "metadata": {},
   "outputs": [
    {
     "name": "stdout",
     "output_type": "stream",
     "text": [
      " entra un año: 2024\n",
      "2024  es bisiesto\n"
     ]
    }
   ],
   "source": [
    "year = int(input(' entra un año: '))\n",
    "if year % 4 == 0 and(year % 100 !=0 or year % 400 == 0):\n",
    "    print(year,' es bisiesto')\n",
    "else:\n",
    "    print(year,' no es bisiesto')"
   ]
  },
  {
   "cell_type": "markdown",
   "id": "d30c3f8d",
   "metadata": {},
   "source": [
    "### Pregunta 7 \n",
    "\n",
    "Busca la imagen de un tablero de ajedrez en Google y fíjate en la nomenclatura de las casillas. Escribe una\n",
    "secuencia que lea una letra y un número de teclado correspondiente a una casilla de un tablero de ajedrez y\n",
    "que indique si esta casilla es negra o blanca."
   ]
  },
  {
   "cell_type": "code",
   "execution_count": 14,
   "id": "c383c3ea",
   "metadata": {},
   "outputs": [
    {
     "name": "stdout",
     "output_type": "stream",
     "text": [
      "Escribe una letra en el intervalo [A,H]e\n",
      "Escribe una letra en el intervalo [1,8]7\n",
      "casilla negra\n"
     ]
    }
   ],
   "source": [
    "# si consideramos la posición de las letras en la lista (A,B,C,D,E,F,G,H), y pienso que el cero es par\n",
    "#, la letra A es par , la B impar\n",
    "# la D tambiem impar y la G par osea (A,B,C,D,E,F,G,H) -- (par,impar,par,impar,par,impar,par,impar), \n",
    "#\n",
    "## Li Ni --> blanca\n",
    "## Lp Np --> blanca\n",
    "## Li Np --> negra\n",
    "## Lp Ni --> negra\n",
    "\n",
    "letra = input('Escribe una letra en el intervalo [A,H]').upper()\n",
    "numero = int(input('Escribe una letra en el intervalo [1,8]'))\n",
    "letras = [chr(l) for l in range(ord('A'),ord('I'))]\n",
    "numeros = [x for x in range(1,9)]\n",
    "\n",
    "if letra in letras and numero in numeros:\n",
    "    for l in range(len(letras)):\n",
    "        if letra == letras[l] and l %2 !=0 and numero %2 !=0: # letra impar y numero impar\n",
    "            print('casilla blanca')\n",
    "            break\n",
    "        elif letra == letras[l] and l %2 ==0 and numero % 2==0: # letra par y numero par \n",
    "            print('casilla blanca')\n",
    "            break\n",
    "        \n",
    "        elif letra == letras[l] and l %2 !=0 and numero %2 ==0:\n",
    "            print('casilla negra')\n",
    "            break\n",
    "        elif letra == letras[l] and l %2 ==0 and numero %2 !=0:     \n",
    "            print('casilla negra')\n",
    "    "
   ]
  },
  {
   "cell_type": "code",
   "execution_count": null,
   "id": "20988ede",
   "metadata": {},
   "outputs": [],
   "source": []
  }
 ],
 "metadata": {
  "kernelspec": {
   "display_name": "Python 3 (ipykernel)",
   "language": "python",
   "name": "python3"
  },
  "language_info": {
   "codemirror_mode": {
    "name": "ipython",
    "version": 3
   },
   "file_extension": ".py",
   "mimetype": "text/x-python",
   "name": "python",
   "nbconvert_exporter": "python",
   "pygments_lexer": "ipython3",
   "version": "3.11.5"
  }
 },
 "nbformat": 4,
 "nbformat_minor": 5
}
