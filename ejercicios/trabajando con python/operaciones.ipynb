{
 "cells": [
  {
   "cell_type": "code",
   "execution_count": 1,
   "id": "49e6f03b",
   "metadata": {},
   "outputs": [
    {
     "name": "stdout",
     "output_type": "stream",
     "text": [
      "Hola me llamo Juan\n"
     ]
    }
   ],
   "source": [
    "print(\"Hola me llamo Juan\")"
   ]
  },
  {
   "cell_type": "code",
   "execution_count": 2,
   "id": "d3edce68",
   "metadata": {},
   "outputs": [
    {
     "name": "stdout",
     "output_type": "stream",
     "text": [
      "5\n"
     ]
    }
   ],
   "source": [
    "x= 5\n",
    "print(x)"
   ]
  },
  {
   "cell_type": "code",
   "execution_count": 3,
   "id": "cd9e825f",
   "metadata": {},
   "outputs": [
    {
     "name": "stdout",
     "output_type": "stream",
     "text": [
      "el valor de la variable x es : 5\n"
     ]
    }
   ],
   "source": [
    "print(\"el valor de la variable x es : \"+str(x))"
   ]
  },
  {
   "cell_type": "code",
   "execution_count": 4,
   "id": "b2bf6e28",
   "metadata": {},
   "outputs": [
    {
     "name": "stdout",
     "output_type": "stream",
     "text": [
      "introduce tu nombre: Juan\n"
     ]
    }
   ],
   "source": [
    "texto = input('introduce tu nombre: ')"
   ]
  },
  {
   "cell_type": "code",
   "execution_count": 5,
   "id": "b82cd8a8",
   "metadata": {},
   "outputs": [
    {
     "data": {
      "text/plain": [
       "'Juan'"
      ]
     },
     "execution_count": 5,
     "metadata": {},
     "output_type": "execute_result"
    }
   ],
   "source": [
    "texto"
   ]
  },
  {
   "cell_type": "code",
   "execution_count": 6,
   "id": "91c188e3",
   "metadata": {},
   "outputs": [
    {
     "name": "stdout",
     "output_type": "stream",
     "text": [
      "introduce tu edad: 27\n"
     ]
    }
   ],
   "source": [
    "numero = int(input('introduce tu edad: '))"
   ]
  },
  {
   "cell_type": "code",
   "execution_count": 7,
   "id": "9480ed2d",
   "metadata": {},
   "outputs": [
    {
     "name": "stdout",
     "output_type": "stream",
     "text": [
      "nombre Juan  y edad  27\n"
     ]
    }
   ],
   "source": [
    "print('nombre',texto,' y edad ',numero)"
   ]
  },
  {
   "cell_type": "markdown",
   "id": "980d39c2",
   "metadata": {},
   "source": [
    "python es un lenguaje de tipado dinámico , por lo que podemos cambiuar el tipo a una varible y está cambiará"
   ]
  },
  {
   "cell_type": "code",
   "execution_count": 8,
   "id": "35ca9d45",
   "metadata": {},
   "outputs": [],
   "source": [
    "x = 5"
   ]
  },
  {
   "cell_type": "code",
   "execution_count": 9,
   "id": "03a95326",
   "metadata": {},
   "outputs": [],
   "source": [
    "x = 'k'"
   ]
  },
  {
   "cell_type": "code",
   "execution_count": 10,
   "id": "238b5cc8",
   "metadata": {},
   "outputs": [
    {
     "data": {
      "text/plain": [
       "'k'"
      ]
     },
     "execution_count": 10,
     "metadata": {},
     "output_type": "execute_result"
    }
   ],
   "source": [
    "x"
   ]
  },
  {
   "cell_type": "code",
   "execution_count": 11,
   "id": "8ed57439",
   "metadata": {},
   "outputs": [],
   "source": [
    "x = 3.24"
   ]
  },
  {
   "cell_type": "code",
   "execution_count": 12,
   "id": "c67c0c0d",
   "metadata": {},
   "outputs": [
    {
     "data": {
      "text/plain": [
       "3.24"
      ]
     },
     "execution_count": 12,
     "metadata": {},
     "output_type": "execute_result"
    }
   ],
   "source": [
    "x"
   ]
  },
  {
   "cell_type": "markdown",
   "id": "525fc1d0",
   "metadata": {},
   "source": [
    "# Operadores de Decisión \n",
    "\n",
    "si condición booleana: \n",
    "\n",
    "    codigo que se ejecuta si la condición es verdad\n",
    "    ..\n",
    "    ..\n",
    "    .. \n",
    "    \n",
    "codigo que se ejecuta siempre    \n",
    "    "
   ]
  },
  {
   "cell_type": "code",
   "execution_count": 13,
   "id": "ffc966d9",
   "metadata": {},
   "outputs": [
    {
     "name": "stdout",
     "output_type": "stream",
     "text": [
      "Escribe un número:5\n"
     ]
    }
   ],
   "source": [
    "x = int(input('Escribe un número:'))"
   ]
  },
  {
   "cell_type": "code",
   "execution_count": 14,
   "id": "d67d665a",
   "metadata": {},
   "outputs": [
    {
     "name": "stdout",
     "output_type": "stream",
     "text": [
      "has escrito el número 5\n"
     ]
    }
   ],
   "source": [
    "if x == 5:\n",
    "    print('has escrito el número 5')"
   ]
  },
  {
   "cell_type": "code",
   "execution_count": 15,
   "id": "78d0ea87",
   "metadata": {},
   "outputs": [
    {
     "name": "stdout",
     "output_type": "stream",
     "text": [
      "has escrito un número menor que 10 y mayor o igual a 5\n"
     ]
    }
   ],
   "source": [
    "if x < 5:\n",
    "    print('has escrito un número menor que 5')\n",
    "elif x < 10:\n",
    "    print('has escrito un número menor que 10 y mayor o igual a 5')\n",
    "else:\n",
    "    print('el numero que has escrito es mayor o igual que 10')"
   ]
  },
  {
   "cell_type": "code",
   "execution_count": 16,
   "id": "d518092e",
   "metadata": {},
   "outputs": [
    {
     "name": "stdout",
     "output_type": "stream",
     "text": [
      "Escribe un número: 7\n",
      "Has escrito un número en el rango [0,10]\n"
     ]
    }
   ],
   "source": [
    "x = int(input('Escribe un número: '))\n",
    "if x > 0 and x < 10:\n",
    "    print('Has escrito un número en el rango [0,10]')"
   ]
  },
  {
   "cell_type": "code",
   "execution_count": 17,
   "id": "fb54e77a",
   "metadata": {},
   "outputs": [
    {
     "name": "stdout",
     "output_type": "stream",
     "text": [
      "escribe un número: -3\n",
      "tu número escrito no se encuentra dentro del rango [0,10]\n"
     ]
    }
   ],
   "source": [
    "x = int(input('escribe un número: '))\n",
    "if x < 0 or x > 10:\n",
    "    print('tu número escrito no se encuentra dentro del rango [0,10]')"
   ]
  },
  {
   "cell_type": "code",
   "execution_count": null,
   "id": "e5e67467",
   "metadata": {},
   "outputs": [],
   "source": []
  },
  {
   "cell_type": "code",
   "execution_count": null,
   "id": "f030d784",
   "metadata": {},
   "outputs": [],
   "source": []
  }
 ],
 "metadata": {
  "kernelspec": {
   "display_name": "Python 3 (ipykernel)",
   "language": "python",
   "name": "python3"
  },
  "language_info": {
   "codemirror_mode": {
    "name": "ipython",
    "version": 3
   },
   "file_extension": ".py",
   "mimetype": "text/x-python",
   "name": "python",
   "nbconvert_exporter": "python",
   "pygments_lexer": "ipython3",
   "version": "3.11.5"
  }
 },
 "nbformat": 4,
 "nbformat_minor": 5
}
